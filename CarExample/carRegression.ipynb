{
 "cells": [
  {
   "cell_type": "code",
   "execution_count": 2,
   "metadata": {},
   "outputs": [],
   "source": [
    "import pandas as pd\n",
    "from scipy import stats \n",
    "import seaborn as sns \n",
    "import matplotlib as plt\n",
    "from sklearn.model_selection import train_test_split\n",
    "from sklearn.metrics import r2_score \n",
    "\n",
    "# Setting up pandas settings for better console output\n",
    "pd.set_option('display.max_rows', 500)\n",
    "pd.set_option('display.max_columns', 500)\n",
    "pd.set_option('display.width', 1500)"
   ]
  },
  {
   "cell_type": "code",
   "execution_count": 3,
   "metadata": {},
   "outputs": [],
   "source": [
    "\n",
    "# Read Files\n",
    "# Train Data\n",
    "cars = pd.read_csv(\".\\\\Data\\\\SeperatedTestData\\\\TrainData.csv\", sep=\";\")  \n",
    "# Test Data\n",
    "testCars = pd.read_csv(\".\\\\Data\\\\SeperatedTestData\\\\Testdata.csv\", sep=\";\")  \n",
    "\n",
    "#Save prices for later\n",
    "originalPrices = testCars.Price\n",
    "#Drop the original price of test data, to predict them later\n",
    "testCars = testCars.drop('Price', axis=1)\n",
    "\n",
    "# Split up training Data\n",
    "X = cars.drop('Price', 1) \n",
    "Y = cars.Price \n",
    "X_train, X_test, y_train, y_test = train_test_split( \n",
    "\tX, Y, train_size=0.7, test_size=0.3) "
   ]
  },
  {
   "cell_type": "code",
   "execution_count": 18,
   "metadata": {},
   "outputs": [
    {
     "name": "stdout",
     "output_type": "stream",
     "text": [
      "Score: 0.38825086574714096 \n",
      "\n",
      "Prediction:\n",
      "\n",
      "[6064.14180795 5927.56436758 5927.56436758 5276.45890425 6476.53413877\n",
      " 6497.0169208  5036.5268827  5567.76908002 6654.59770442 6098.49947823\n",
      " 6233.72478369 5899.08121189 5899.08121189 5282.49573804 5282.49573804\n",
      " 5282.49573804 5655.98529474 6602.87080456 5655.98529474 6647.1511966\n",
      " 6109.03205909 5444.34741427 5304.17002587 5756.73574578 5513.69732165\n",
      " 5815.85217858 5444.34741427 5304.17002587 5756.73574578 3966.29435368\n",
      " 5330.51343725 3966.29435368 5330.51343725 4942.045019   3966.29435368\n",
      " 5158.72611324 4095.12810124 5158.72611324 4095.12810124 5158.72611324\n",
      " 5325.93634295 4771.34208529 4847.5512503  4771.34208529 3533.74633348\n",
      " 3396.13482584 3533.74633348 3905.64352641 3397.51906    3533.74633348\n",
      " 3397.51906    3533.74633348 3396.13482584 3397.51906    3533.74633348\n",
      " 4590.14851507 4590.14851507 4696.26072454]\n"
     ]
    }
   ],
   "source": [
    "from sklearn import linear_model \n",
    "from sklearn.preprocessing import PolynomialFeatures \n",
    "\n",
    "lm = linear_model.LinearRegression() \n",
    "\n",
    "lm.fit(X_train, y_train) \n",
    "\n",
    "testPrediction = lm.predict(X_test) \n",
    "print(\"Score: \" + str(r2_score(y_true=y_test, y_pred=testPrediction))+ \" \\n\")\n",
    "\n",
    "prediction = lm.predict(testCars) \n",
    "print(\"Prediction:\\n\")\n",
    "print(prediction)\n"
   ]
  },
  {
   "cell_type": "code",
   "execution_count": null,
   "metadata": {},
   "outputs": [],
   "source": [
    "import statsmodels.api as sm \n",
    "\n",
    "#Ordinary Least Squars\n",
    "model = sm.OLS(Y, X).fit() \n",
    "\n",
    "realPrediction = model.predict(testCars) \n",
    "print(\"Score: \" + str(r2_score(y_true=originalPrices, y_pred=realPrediction))+ \" \\n\")\n",
    "print(\"Prediction:\\n\")\n",
    "print(realPrediction)"
   ]
  },
  {
   "cell_type": "code",
   "execution_count": 5,
   "metadata": {},
   "outputs": [
    {
     "name": "stdout",
     "output_type": "stream",
     "text": [
      "(5076, 55)\n",
      "Score: 0.6254477949422215 \n",
      "\n",
      "Prediction:\n",
      "\n",
      "[6495.32917661 6734.26855612 6734.26855612 5782.72421845 6689.31429988\n",
      " 6807.59509142 6158.13838246 5690.88808645 7021.73910923 6114.24584696\n",
      " 6541.09598534 6296.03834544 6296.03834544 5127.05223575 5127.05223575\n",
      " 5127.05223575 6130.27950924 6918.53617934 6130.27950924 7439.2823592\n",
      " 6603.2819198  5377.4346288  5369.36771619 5960.79132597 6109.80613497\n",
      " 7126.6272274  5377.4346288  5369.36771619 5960.79132597 3949.21355673\n",
      " 6018.57214217 3949.21355673 6018.57214217 4768.88552992 3949.21355673\n",
      " 5204.94627496 4133.28303256 5204.94627496 4133.28303256 5204.94627496\n",
      " 5947.00830621 4482.98944148 4543.64561582 4482.98944148 3210.08703505\n",
      " 3030.83994166 3210.08703505 3106.6049005  3268.0465309  3210.08703505\n",
      " 3268.0465309  3210.08703505 3030.83994166 3268.0465309  3210.08703505\n",
      " 3972.27234289 3972.27234289 4488.51821422]\n"
     ]
    }
   ],
   "source": [
    "import statsmodels.api as sm \n",
    "from sklearn.preprocessing import PolynomialFeatures\n",
    "\n",
    "polyFeatures = PolynomialFeatures(degree = 2)\n",
    "xp = polyFeatures.fit_transform(X=X)\n",
    "\n",
    "model = sm.OLS(Y, xp).fit() \n",
    "\n",
    "#print(model.summary())\n",
    "\n",
    "\n",
    "testCarsPoly = polyFeatures.fit_transform(X=testCars)\n",
    "\n",
    "\n",
    "realPrediction = model.predict(testCarsPoly) \n",
    "print(\"Score: \" + str(r2_score(y_true=originalPrices, y_pred=realPrediction))+ \" \\n\")\n",
    "\n",
    "\n",
    "print(\"Prediction:\\n\")\n",
    "print(realPrediction)"
   ]
  },
  {
   "cell_type": "code",
   "execution_count": 23,
   "metadata": {},
   "outputs": [
    {
     "name": "stdout",
     "output_type": "stream",
     "text": [
      "Score: 0.6409937291797411 \n",
      "\n",
      "Prediction:\n",
      "\n",
      "[5732.50579877 7133.25818957 7133.25818957 6053.04164545 6237.69245479\n",
      " 6885.01111747 7035.95516503 5662.20297853 6858.62140411 6060.2158557\n",
      " 7155.37124844 6751.20269457 6751.20269457 5141.43339476 5141.43339476\n",
      " 5141.43339476 5887.15756821 7298.29060911 5887.15756821 7415.4587578\n",
      " 6381.80284417 5396.41860036 5137.23547725 6078.37461001 6430.28907909\n",
      " 8278.66998984 5396.41860036 5137.23547725 6078.37461001 4018.96210114\n",
      " 5656.41640585 4018.96210114 5656.41640585 4580.47943766 4018.96210114\n",
      " 4727.09232928 4395.95083133 4727.09232928 4395.95083133 4727.09232928\n",
      " 5714.33042216 4863.15099443 4576.0006888  4863.15099443 2529.69918301\n",
      " 3064.69974898 2529.69918301 3150.98851702 2978.91954948 2529.69918301\n",
      " 2978.91954948 2529.69918301 3064.69974898 2978.91954948 2529.69918301\n",
      " 3839.7412357  3839.7412357  4498.68787483]\n"
     ]
    }
   ],
   "source": [
    "import statsmodels.api as sm \n",
    "from sklearn.preprocessing import PolynomialFeatures\n",
    "\n",
    "polyFeatures = PolynomialFeatures(degree = 3)\n",
    "xp = polyFeatures.fit_transform(X=X)\n",
    "\n",
    "model = sm.OLS(Y, xp).fit() \n",
    "\n",
    "testCarsPoly = polyFeatures.fit_transform(X=testCars)\n",
    "realPrediction = model.predict(testCarsPoly) \n",
    "\n",
    "print(\"Score: \" + str(r2_score(y_true=originalPrices, y_pred=realPrediction))+ \" \\n\")\n",
    "\n",
    "print(\"Prediction:\\n\")\n",
    "print(realPrediction)\n"
   ]
  },
  {
   "cell_type": "code",
   "execution_count": 24,
   "metadata": {},
   "outputs": [
    {
     "name": "stdout",
     "output_type": "stream",
     "text": [
      "0.546204349306213\n",
      "Score: 0.6121931469923452 \n",
      "\n",
      "Prediction:\n",
      "\n",
      "[6208.947034   6828.44905212 6828.44905212 5997.81783411 6081.8205776\n",
      " 6129.49766691 6474.02525805 5630.48166    6724.5765954  6101.59507331\n",
      " 6837.9414303  6371.26802897 6371.26802897 5088.41544197 5088.41544197\n",
      " 5088.41544197 5865.44053824 6772.02696718 5865.44053824 6809.76946278\n",
      " 6376.53684945 5490.62097872 5514.89010934 6168.72002128 6375.50403119\n",
      " 7379.74855078 5490.62097872 5514.89010934 6168.72002128 3725.51072823\n",
      " 6119.74329244 3725.51072823 6119.74329244 4807.29755738 3725.51072823\n",
      " 4851.71169102 4000.75373496 4851.71169102 4000.75373496 4851.71169102\n",
      " 6082.13928021 4814.19472347 4365.25327366 4814.19472347 2956.51196472\n",
      " 3197.51185404 2956.51196472 2763.63804173 2740.46245402 2956.51196472\n",
      " 2740.46245402 2956.51196472 3197.51185404 2740.46245402 2956.51196472\n",
      " 4099.67841764 4099.67841764 4176.57186773]\n"
     ]
    }
   ],
   "source": [
    "import statsmodels.api as sm \n",
    "from sklearn.preprocessing import PolynomialFeatures\n",
    "\n",
    "#X - Testdata\n",
    "#Y - Expected Result\n",
    "\n",
    "polyFeatures = PolynomialFeatures(degree = 4)\n",
    "xp = polyFeatures.fit_transform(X=X)\n",
    "\n",
    "model = sm.OLS(Y, xp).fit() \n",
    "\n",
    "#print(model.summary())\n",
    "print(model.rsquared) \n",
    "testCarsPoly = polyFeatures.fit_transform(X=testCars)\n",
    "realPrediction = model.predict(testCarsPoly) \n",
    "\n",
    "print(\"Score: \" + str(r2_score(y_true=originalPrices, y_pred=realPrediction))+ \" \\n\")\n",
    "print(\"Prediction:\\n\")\n",
    "print(realPrediction)"
   ]
  },
  {
   "cell_type": "code",
   "execution_count": 21,
   "metadata": {},
   "outputs": [
    {
     "name": "stdout",
     "output_type": "stream",
     "text": [
      "Score: 0.5493671971919467 \n",
      "\n",
      "Prediction:\n",
      "\n",
      "[5724.82232098 6925.21818924 6925.21818924 5749.4525589  5843.36858586\n",
      " 6153.74598325 6828.28804055 5515.84380024 6333.48232163 6028.06809173\n",
      " 6760.22527629 6726.01972155 6726.01972155 5198.299766   5198.299766\n",
      " 5198.299766   5406.29329559 6695.52319438 5406.29329559 6034.24070758\n",
      " 5772.76427217 5550.94951868 5222.17684096 6251.65030279 6140.06058281\n",
      " 6810.2501774  5550.94951868 5222.17684096 6251.65030279 3894.09408963\n",
      " 5787.50152028 3894.09408963 5787.50152028 5053.08825895 3894.09408963\n",
      " 5195.99460662 4162.0291501  5195.99460662 4162.0291501  5195.99460662\n",
      " 6305.833219   4861.34465898 4528.02884394 4861.34465898 3317.74787236\n",
      " 2996.33642407 3317.74787236 2852.98406348 2683.99135478 3317.74787236\n",
      " 2683.99135478 3317.74787236 2996.33642407 2683.99135478 3317.74787236\n",
      " 4436.96727786 4436.96727786 4857.53949498]\n"
     ]
    }
   ],
   "source": [
    "import statsmodels.api as sm \n",
    "from sklearn.preprocessing import PolynomialFeatures\n",
    "\n",
    "polyFeatures = PolynomialFeatures(degree = 5)\n",
    "xp = polyFeatures.fit_transform(X=X)\n",
    "\n",
    "model = sm.OLS(Y, xp).fit() \n",
    "\n",
    "testCarsPoly = polyFeatures.fit_transform(X=testCars)\n",
    "realPrediction = model.predict(testCarsPoly) \n",
    "\n",
    "print(\"Score: \" + str(r2_score(y_true=originalPrices, y_pred=realPrediction))+ \" \\n\")\n",
    "\n",
    "print(\"Prediction:\\n\")\n",
    "print(realPrediction)\n"
   ]
  },
  {
   "cell_type": "code",
   "execution_count": 25,
   "metadata": {},
   "outputs": [
    {
     "name": "stdout",
     "output_type": "stream",
     "text": [
      "Score: 0.38267458234725393 \n",
      "\n",
      "Prediction:\n",
      "\n",
      "[5682.69099886 4572.91905095 4572.91905095 6405.05996864 5997.25147308\n",
      " 6497.39548687 4671.29653772 5783.14122423 6488.58592394 5287.14707318\n",
      " 5672.68267436 5342.53591056 5342.53591056 5651.27222823 5651.27222823\n",
      " 5651.27222823 5118.54036576 5479.71250321 5118.54036576 5794.01225589\n",
      " 5234.10966434 6094.85811776 5522.87424767 6350.40442886 6288.16577336\n",
      " 4678.06688579 6094.85811776 5522.87424767 6350.40442886 3986.49226241\n",
      " 5794.45673062 3986.49226241 5794.45673062 5694.37242862 3986.49226241\n",
      " 5522.78114207 4650.75285302 5522.78114207 4650.75285302 5522.78114207\n",
      " 5592.910083   4408.98239981 4391.71535895 4408.98239981 2920.19973765\n",
      " 3340.31960394 2920.19973765 3190.37770546 2894.58883963 2920.19973765\n",
      " 2894.58883963 2920.19973765 3340.31960394 2894.58883963 2920.19973765\n",
      " 4747.09449734 4747.09449734 5530.4913831 ]\n"
     ]
    }
   ],
   "source": [
    "import statsmodels.api as sm \n",
    "from sklearn.preprocessing import PolynomialFeatures\n",
    "\n",
    "polyFeatures = PolynomialFeatures(degree = 6)\n",
    "xp = polyFeatures.fit_transform(X=X)\n",
    "\n",
    "model = sm.OLS(Y, xp).fit() \n",
    "\n",
    "testCarsPoly = polyFeatures.fit_transform(X=testCars)\n",
    "realPrediction = model.predict(testCarsPoly) \n",
    "model.get_prediction()\n",
    "\n",
    "print(\"Score: \" + str(r2_score(y_true=originalPrices, y_pred=realPrediction))+ \" \\n\")\n",
    "\n",
    "print(\"Prediction:\\n\")\n",
    "print(realPrediction)\n"
   ]
  },
  {
   "cell_type": "code",
   "execution_count": 9,
   "metadata": {},
   "outputs": [
    {
     "name": "stdout",
     "output_type": "stream",
     "text": [
      "(5076, 24310)\n",
      "-2.980680322092042\n",
      "Score: -3.274602388661407 \n",
      "\n",
      "Prediction:\n",
      "\n",
      "[ 3351.76199568   121.42892976   121.42892976  1279.89107517\n",
      "  3116.35660073  1096.00442989   135.28666916  1797.63397207\n",
      "  1343.79711304  5102.93129814   322.44642918   331.36925387\n",
      "   331.36925387  2193.10720346  2193.10720346  2193.10720346\n",
      "  3157.36294094   449.6169893   3157.36294094  2040.4282677\n",
      "  3363.10484612  1948.20287114  2221.09035206   754.33951733\n",
      "   751.57619598   185.93257579  1948.20287114  2221.09035206\n",
      "   754.33951733  4288.63815403  1077.18732016  4288.63815403\n",
      "  1077.18732016  2379.4629467   4288.63815403  3463.17395825\n",
      "  2887.48317212  3463.17395825  2887.48317212  3463.17395825\n",
      "   563.31513619  4723.9896731   5076.17732791  4723.9896731\n",
      " -2485.88798628  5288.8981916  -2485.88798628  4807.83687454\n",
      "  4694.55371508 -2485.88798628  4694.55371508 -2485.88798628\n",
      "  5288.8981916   4694.55371508 -2485.88798628  6460.56198083\n",
      "  6460.56198083  4018.74994468]\n"
     ]
    }
   ],
   "source": [
    "import statsmodels.api as sm \n",
    "from sklearn.preprocessing import PolynomialFeatures\n",
    "\n",
    "polyFeatures = PolynomialFeatures(degree = 8)\n",
    "xp = polyFeatures.fit_transform(X=X)\n",
    "\n",
    "model = sm.OLS(Y, xp).fit() \n",
    "\n",
    "testCarsPoly = polyFeatures.fit_transform(X=testCars)\n",
    "realPrediction = model.predict(testCarsPoly) \n",
    "\n",
    "print(\"Score: \" + str(r2_score(y_true=originalPrices, y_pred=realPrediction))+ \" \\n\")\n",
    "\n",
    "print(\"Prediction:\\n\")\n",
    "print(realPrediction)\n"
   ]
  },
  {
   "cell_type": "code",
   "execution_count": 26,
   "metadata": {},
   "outputs": [
    {
     "name": "stdout",
     "output_type": "stream",
     "text": [
      "\n",
      "-------------------CatBoost---------------------\n",
      "Training CatBoostRegressor -  This will take up to 25 Seconds\n",
      "Score: 0.9764605278523313 \n",
      "\n",
      "Prediction:\n",
      "\n",
      "[8415.32250798 8270.52226369 8270.52226369 7259.70049211 6946.34250115\n",
      " 5929.44339684 7849.38809066 5859.6310877  7866.07009252 7904.80146162\n",
      " 7603.10471714 7268.92284187 7268.92284187 7444.57066136 7444.57066136\n",
      " 7444.57066136 7306.94935775 6603.26154922 7306.94935775 7001.79993857\n",
      " 7014.85302003 6005.05240186 5718.43128004 5986.0439691  6043.94100327\n",
      " 5992.44169207 6005.05240186 5718.43128004 5986.0439691  4935.64442639\n",
      " 4935.94814349 4935.64442639 4935.94814349 4980.27972054 4935.64442639\n",
      " 3999.3639225  3993.5285802  3999.3639225  3993.5285802  3999.3639225\n",
      " 3082.07522305 3947.90582745 3012.6898192  3947.90582745 2499.52076856\n",
      " 2502.35094202 2499.52076856 2514.28661967 2615.95478438 2499.52076856\n",
      " 2615.95478438 2499.52076856 2502.35094202 2615.95478438 2499.52076856\n",
      " 1444.79244027 1444.79244027 1506.48682989]\n",
      "Score: 0.9565995355434385 \n",
      "\n",
      "---------------CatBoost-Done--------------------\n",
      "\n"
     ]
    }
   ],
   "source": [
    "from catboost import CatBoostRegressor \n",
    "\n",
    "# alternative Models\n",
    "#model = CatBoostRegressor(iterations=1000, learning_rate=0.03)     #0.8956337512894534 \t#bad\n",
    "#model = CatBoostRegressor(iterations=1700, learning_rate=0.03)      #0.9388148446548709\n",
    "#model = CatBoostRegressor(iterations=5000, learning_rate=0.03)      #0.975086189681504\t\t# good\n",
    "#model = CatBoostRegressor(iterations=55000, learning_rate=0.02)      #0.9801175821423871 \t# bit overfitted\n",
    "\n",
    "print(\"\\n-------------------CatBoost---------------------\")\n",
    "print(\"Training CatBoostRegressor -  This will take up to 25 Seconds\")\n",
    "\n",
    "#best till now \n",
    "model = CatBoostRegressor(iterations=10000, learning_rate=0.03)      #0.9797954315617974\n",
    "\n",
    "model.fit( \n",
    "    X_train, y_train, \n",
    "    eval_set=(X_test, y_test),\n",
    "    silent=True # turn FALSE if output should be seen\n",
    ") \n",
    "print(\"Score: \" + str(model.score(X, Y)) + \" \\n\")\n",
    "\n",
    "fitModel = pd.DataFrame(columns=cars.columns) \n",
    "fitModel = fitModel.append(testCars, ignore_index=True) \n",
    "fitModel = fitModel.fillna(0) \n",
    "prediction = model.predict(fitModel)\n",
    "print(\"Prediction:\\n\")\n",
    "print(prediction)\n",
    "\n",
    "print(\"---------------CatBoost-Done--------------------\\n\")\n"
   ]
  },
  {
   "cell_type": "code",
   "execution_count": null,
   "metadata": {},
   "outputs": [
    {
     "name": "stdout",
     "output_type": "stream",
     "text": [
      "Price                1.000000\n",
      "FirstRegistration    0.365506\n",
      "PowerPs              0.145734\n",
      "CubicCapacity        0.100766\n",
      "HuTest               0.035448\n",
      "Owners               0.022309\n",
      "Color               -0.021476\n",
      "EmptyWeight         -0.035655\n",
      "Automatic           -0.040036\n",
      "Mileage             -0.448828\n",
      "Name: Price, dtype: float64\n"
     ]
    },
    {
     "data": {
      "image/png": "[encoded data removed]",
      "text/plain": [
       "<Figure size 432x288 with 2 Axes>"
      ]
     },
     "metadata": {
      "needs_background": "light"
     },
     "output_type": "display_data"
    }
   ],
   "source": [
    "corr = cars.corr()\n",
    "print(corr.Price.sort_values(ascending = False))\n",
    "sns.heatmap(cars.corr(), annot=True, cmap='coolwarm') \n",
    "plt.pyplot.show()"
   ]
  }
 ],
 "metadata": {
  "interpreter": {
   "hash": "2db524e06e9f5f4ffedc911c917cb75e12dbc923643829bf417064a77eb14d37"
  },
  "kernelspec": {
   "display_name": "Python 3.8.5 64-bit",
   "language": "python",
   "name": "python3"
  },
  "language_info": {
   "codemirror_mode": {
    "name": "ipython",
    "version": 3
   },
   "file_extension": ".py",
   "mimetype": "text/x-python",
   "name": "python",
   "nbconvert_exporter": "python",
   "pygments_lexer": "ipython3",
   "version": "3.8.5"
  },
  "orig_nbformat": 4
 },
 "nbformat": 4,
 "nbformat_minor": 2
}
